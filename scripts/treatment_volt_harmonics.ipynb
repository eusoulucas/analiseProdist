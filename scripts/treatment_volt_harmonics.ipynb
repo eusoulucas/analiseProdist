{
 "cells": [
  {
   "cell_type": "code",
   "execution_count": 2,
   "metadata": {},
   "outputs": [
    {
     "name": "stdout",
     "output_type": "stream",
     "text": [
      "(1440, 155)\n",
      "(1440, 155)\n",
      "(1440, 155)\n",
      "(1440, 155)\n",
      "(1440, 155)\n",
      "(1440, 155)\n",
      "(1440, 155)\n"
     ]
    }
   ],
   "source": [
    "import pandas as pd\n",
    "import os"
   ]
  },
  {
   "cell_type": "code",
   "execution_count": null,
   "metadata": {},
   "outputs": [],
   "source": [
    "dfs = [] # lista vazia para armazenar os dataframes\n",
    "\n",
    "# percorre todas as pastas dentro do caminho especificado\n",
    "for folder in os.listdir(r'D:\\repositorios git\\HVEX\\dados\\raw_data'):\n",
    "    # percorre todos os arquivos dentro da pasta atual\n",
    "    for file in os.listdir(r'D:\\repositorios git\\HVEX\\dados\\raw_data\\{}'.format(folder)):\n",
    "\n",
    "        # verifica se o nome do arquivo contém 'Voltage'\n",
    "        if 'Voltage' in file:\n",
    "            # lê o arquivo csv especificado e armazena o dataframe na lista dfs\n",
    "            dfs.append(pd.read_csv(r'D:\\repositorios git\\HVEX\\dados\\raw_data\\{}\\{}'.format(folder, file),\n",
    "                                  skiprows=[0,1], sep=';', encoding='UTF-8'))\n",
    "            # verifica se o dataframe contém apenas uma coluna\n",
    "            if dfs[-1].shape[1] == 1:\n",
    "                # se o dataframe contiver apenas uma coluna, lê novamente o arquivo csv, alterando o separador para vírgula\n",
    "                dfs[-1] = pd.read_csv(r'D:\\repositorios git\\HVEX\\dados\\raw_data\\{}\\{}'.format(folder, file),\n",
    "                                  skiprows=[0,1], sep=',', encoding='UTF-8')"
   ]
  },
  {
   "cell_type": "code",
   "execution_count": 3,
   "metadata": {},
   "outputs": [],
   "source": [
    "# concatenando todos os dataframes, vai ser melhor para a visualização\n",
    "voltHarm = pd.concat(dfs) "
   ]
  },
  {
   "cell_type": "code",
   "execution_count": 4,
   "metadata": {},
   "outputs": [
    {
     "data": {
      "text/plain": [
       "array(['2022-03-28', '2022-03-29', '2022-03-30', '2022-03-31',\n",
       "       '2022-04-01', '2022-04-02', '2022-04-03'], dtype=object)"
      ]
     },
     "execution_count": 4,
     "metadata": {},
     "output_type": "execute_result"
    }
   ],
   "source": [
    "# verificando se as datas estão no mesmo formato\n",
    "voltHarm['Date'].unique()"
   ]
  },
  {
   "cell_type": "code",
   "execution_count": 5,
   "metadata": {},
   "outputs": [
    {
     "data": {
      "text/plain": [
       "array(['00:00:00', '00:01:00', '00:02:00', ..., '23:57:00', '23:58:00',\n",
       "       '23:59:00'], dtype=object)"
      ]
     },
     "execution_count": 5,
     "metadata": {},
     "output_type": "execute_result"
    }
   ],
   "source": [
    "# verificando se os horários estão no mesmo formato\n",
    "voltHarm['Time'].unique()"
   ]
  },
  {
   "cell_type": "code",
   "execution_count": 6,
   "metadata": {},
   "outputs": [],
   "source": [
    "# criando um eixo temporal mais detalhado\n",
    "voltHarm['Datetime'] = voltHarm['Date'] +' '+ voltHarm['Time']\n",
    "voltHarm['Datetime'] = pd.to_datetime(voltHarm['Datetime'], format='%Y-%m-%d %H:%M:%S' )"
   ]
  },
  {
   "cell_type": "code",
   "execution_count": 7,
   "metadata": {},
   "outputs": [
    {
     "data": {
      "text/plain": [
       "(10080, 156)"
      ]
     },
     "execution_count": 7,
     "metadata": {},
     "output_type": "execute_result"
    }
   ],
   "source": [
    "voltHarm.shape"
   ]
  },
  {
   "cell_type": "code",
   "execution_count": 8,
   "metadata": {},
   "outputs": [
    {
     "data": {
      "text/plain": [
       "[]"
      ]
     },
     "execution_count": 8,
     "metadata": {},
     "output_type": "execute_result"
    }
   ],
   "source": [
    "# Contar o número de valores nulos em cada coluna\n",
    "nulos_por_coluna = voltHarm.isnull().sum()\n",
    "[print(values) for values in nulos_por_coluna if values > 0]"
   ]
  },
  {
   "cell_type": "code",
   "execution_count": 9,
   "metadata": {},
   "outputs": [
    {
     "data": {
      "text/html": [
       "<div>\n",
       "<style scoped>\n",
       "    .dataframe tbody tr th:only-of-type {\n",
       "        vertical-align: middle;\n",
       "    }\n",
       "\n",
       "    .dataframe tbody tr th {\n",
       "        vertical-align: top;\n",
       "    }\n",
       "\n",
       "    .dataframe thead th {\n",
       "        text-align: right;\n",
       "    }\n",
       "</style>\n",
       "<table border=\"1\" class=\"dataframe\">\n",
       "  <thead>\n",
       "    <tr style=\"text-align: right;\">\n",
       "      <th></th>\n",
       "      <th>UTHDA</th>\n",
       "      <th>UTHDB</th>\n",
       "      <th>UTHDC</th>\n",
       "      <th>UHD2A</th>\n",
       "      <th>UHD2B</th>\n",
       "      <th>UHD2C</th>\n",
       "      <th>UHD3A</th>\n",
       "      <th>UHD3B</th>\n",
       "      <th>UHD3C</th>\n",
       "      <th>UHD4A</th>\n",
       "      <th>...</th>\n",
       "      <th>UHD49A</th>\n",
       "      <th>UHD49B</th>\n",
       "      <th>UHD49C</th>\n",
       "      <th>UHD50A</th>\n",
       "      <th>UHD50B</th>\n",
       "      <th>UHD50C</th>\n",
       "      <th>UHD51A</th>\n",
       "      <th>UHD51B</th>\n",
       "      <th>UHD51C</th>\n",
       "      <th>Unnamed: 154</th>\n",
       "    </tr>\n",
       "  </thead>\n",
       "  <tbody>\n",
       "    <tr>\n",
       "      <th>count</th>\n",
       "      <td>10080.000000</td>\n",
       "      <td>10080.000000</td>\n",
       "      <td>10080.000000</td>\n",
       "      <td>10080.000000</td>\n",
       "      <td>10080.000000</td>\n",
       "      <td>10080.000000</td>\n",
       "      <td>10080.000000</td>\n",
       "      <td>10080.000000</td>\n",
       "      <td>10080.000000</td>\n",
       "      <td>10080.000000</td>\n",
       "      <td>...</td>\n",
       "      <td>10080.000000</td>\n",
       "      <td>10080.000000</td>\n",
       "      <td>10080.000000</td>\n",
       "      <td>10080.000000</td>\n",
       "      <td>10080.000000</td>\n",
       "      <td>10080.000000</td>\n",
       "      <td>10080.000000</td>\n",
       "      <td>10080.000000</td>\n",
       "      <td>10080.000000</td>\n",
       "      <td>10080.000000</td>\n",
       "    </tr>\n",
       "    <tr>\n",
       "      <th>mean</th>\n",
       "      <td>2.306172</td>\n",
       "      <td>2.371813</td>\n",
       "      <td>2.353044</td>\n",
       "      <td>0.038989</td>\n",
       "      <td>0.036925</td>\n",
       "      <td>0.040586</td>\n",
       "      <td>0.353788</td>\n",
       "      <td>0.370137</td>\n",
       "      <td>0.604631</td>\n",
       "      <td>0.035005</td>\n",
       "      <td>...</td>\n",
       "      <td>0.007227</td>\n",
       "      <td>0.011811</td>\n",
       "      <td>0.009754</td>\n",
       "      <td>0.009829</td>\n",
       "      <td>0.007603</td>\n",
       "      <td>0.008211</td>\n",
       "      <td>0.007392</td>\n",
       "      <td>0.011283</td>\n",
       "      <td>0.009634</td>\n",
       "      <td>0.010590</td>\n",
       "    </tr>\n",
       "    <tr>\n",
       "      <th>std</th>\n",
       "      <td>0.506675</td>\n",
       "      <td>0.444520</td>\n",
       "      <td>0.469185</td>\n",
       "      <td>0.043393</td>\n",
       "      <td>0.028943</td>\n",
       "      <td>0.023827</td>\n",
       "      <td>0.315730</td>\n",
       "      <td>0.238355</td>\n",
       "      <td>0.247387</td>\n",
       "      <td>0.028755</td>\n",
       "      <td>...</td>\n",
       "      <td>0.004645</td>\n",
       "      <td>0.008423</td>\n",
       "      <td>0.005768</td>\n",
       "      <td>0.005942</td>\n",
       "      <td>0.005930</td>\n",
       "      <td>0.004949</td>\n",
       "      <td>0.004872</td>\n",
       "      <td>0.008063</td>\n",
       "      <td>0.006096</td>\n",
       "      <td>0.006509</td>\n",
       "    </tr>\n",
       "    <tr>\n",
       "      <th>min</th>\n",
       "      <td>0.000000</td>\n",
       "      <td>0.000000</td>\n",
       "      <td>0.000000</td>\n",
       "      <td>0.000000</td>\n",
       "      <td>0.000000</td>\n",
       "      <td>0.000000</td>\n",
       "      <td>0.000000</td>\n",
       "      <td>0.000000</td>\n",
       "      <td>0.000000</td>\n",
       "      <td>0.000000</td>\n",
       "      <td>...</td>\n",
       "      <td>0.000000</td>\n",
       "      <td>0.000000</td>\n",
       "      <td>0.000000</td>\n",
       "      <td>0.000000</td>\n",
       "      <td>0.000000</td>\n",
       "      <td>0.000000</td>\n",
       "      <td>0.000000</td>\n",
       "      <td>0.000000</td>\n",
       "      <td>0.000000</td>\n",
       "      <td>0.000000</td>\n",
       "    </tr>\n",
       "    <tr>\n",
       "      <th>25%</th>\n",
       "      <td>2.102000</td>\n",
       "      <td>2.183000</td>\n",
       "      <td>2.112000</td>\n",
       "      <td>0.022000</td>\n",
       "      <td>0.021000</td>\n",
       "      <td>0.024000</td>\n",
       "      <td>0.249000</td>\n",
       "      <td>0.220000</td>\n",
       "      <td>0.455000</td>\n",
       "      <td>0.020000</td>\n",
       "      <td>...</td>\n",
       "      <td>0.004000</td>\n",
       "      <td>0.007000</td>\n",
       "      <td>0.006000</td>\n",
       "      <td>0.006000</td>\n",
       "      <td>0.004000</td>\n",
       "      <td>0.005000</td>\n",
       "      <td>0.004000</td>\n",
       "      <td>0.006000</td>\n",
       "      <td>0.005000</td>\n",
       "      <td>0.006000</td>\n",
       "    </tr>\n",
       "    <tr>\n",
       "      <th>50%</th>\n",
       "      <td>2.313000</td>\n",
       "      <td>2.391000</td>\n",
       "      <td>2.361000</td>\n",
       "      <td>0.036000</td>\n",
       "      <td>0.034000</td>\n",
       "      <td>0.037000</td>\n",
       "      <td>0.336000</td>\n",
       "      <td>0.365000</td>\n",
       "      <td>0.587000</td>\n",
       "      <td>0.032000</td>\n",
       "      <td>...</td>\n",
       "      <td>0.006000</td>\n",
       "      <td>0.010000</td>\n",
       "      <td>0.009000</td>\n",
       "      <td>0.009000</td>\n",
       "      <td>0.007000</td>\n",
       "      <td>0.007000</td>\n",
       "      <td>0.006000</td>\n",
       "      <td>0.010000</td>\n",
       "      <td>0.008000</td>\n",
       "      <td>0.010000</td>\n",
       "    </tr>\n",
       "    <tr>\n",
       "      <th>75%</th>\n",
       "      <td>2.545000</td>\n",
       "      <td>2.606000</td>\n",
       "      <td>2.643000</td>\n",
       "      <td>0.051000</td>\n",
       "      <td>0.049000</td>\n",
       "      <td>0.054000</td>\n",
       "      <td>0.431000</td>\n",
       "      <td>0.484000</td>\n",
       "      <td>0.732000</td>\n",
       "      <td>0.045000</td>\n",
       "      <td>...</td>\n",
       "      <td>0.010000</td>\n",
       "      <td>0.015000</td>\n",
       "      <td>0.013000</td>\n",
       "      <td>0.013000</td>\n",
       "      <td>0.010000</td>\n",
       "      <td>0.011000</td>\n",
       "      <td>0.010000</td>\n",
       "      <td>0.015000</td>\n",
       "      <td>0.013000</td>\n",
       "      <td>0.014000</td>\n",
       "    </tr>\n",
       "    <tr>\n",
       "      <th>max</th>\n",
       "      <td>23.581000</td>\n",
       "      <td>12.831000</td>\n",
       "      <td>7.118000</td>\n",
       "      <td>3.713000</td>\n",
       "      <td>2.020000</td>\n",
       "      <td>0.543000</td>\n",
       "      <td>22.156000</td>\n",
       "      <td>9.695000</td>\n",
       "      <td>5.292000</td>\n",
       "      <td>1.980000</td>\n",
       "      <td>...</td>\n",
       "      <td>0.057000</td>\n",
       "      <td>0.124000</td>\n",
       "      <td>0.040000</td>\n",
       "      <td>0.064000</td>\n",
       "      <td>0.100000</td>\n",
       "      <td>0.038000</td>\n",
       "      <td>0.047000</td>\n",
       "      <td>0.124000</td>\n",
       "      <td>0.049000</td>\n",
       "      <td>0.056000</td>\n",
       "    </tr>\n",
       "  </tbody>\n",
       "</table>\n",
       "<p>8 rows × 153 columns</p>\n",
       "</div>"
      ],
      "text/plain": [
       "              UTHDA         UTHDB         UTHDC         UHD2A         UHD2B  \\\n",
       "count  10080.000000  10080.000000  10080.000000  10080.000000  10080.000000   \n",
       "mean       2.306172      2.371813      2.353044      0.038989      0.036925   \n",
       "std        0.506675      0.444520      0.469185      0.043393      0.028943   \n",
       "min        0.000000      0.000000      0.000000      0.000000      0.000000   \n",
       "25%        2.102000      2.183000      2.112000      0.022000      0.021000   \n",
       "50%        2.313000      2.391000      2.361000      0.036000      0.034000   \n",
       "75%        2.545000      2.606000      2.643000      0.051000      0.049000   \n",
       "max       23.581000     12.831000      7.118000      3.713000      2.020000   \n",
       "\n",
       "              UHD2C         UHD3A         UHD3B         UHD3C         UHD4A  \\\n",
       "count  10080.000000  10080.000000  10080.000000  10080.000000  10080.000000   \n",
       "mean       0.040586      0.353788      0.370137      0.604631      0.035005   \n",
       "std        0.023827      0.315730      0.238355      0.247387      0.028755   \n",
       "min        0.000000      0.000000      0.000000      0.000000      0.000000   \n",
       "25%        0.024000      0.249000      0.220000      0.455000      0.020000   \n",
       "50%        0.037000      0.336000      0.365000      0.587000      0.032000   \n",
       "75%        0.054000      0.431000      0.484000      0.732000      0.045000   \n",
       "max        0.543000     22.156000      9.695000      5.292000      1.980000   \n",
       "\n",
       "       ...        UHD49A        UHD49B        UHD49C        UHD50A  \\\n",
       "count  ...  10080.000000  10080.000000  10080.000000  10080.000000   \n",
       "mean   ...      0.007227      0.011811      0.009754      0.009829   \n",
       "std    ...      0.004645      0.008423      0.005768      0.005942   \n",
       "min    ...      0.000000      0.000000      0.000000      0.000000   \n",
       "25%    ...      0.004000      0.007000      0.006000      0.006000   \n",
       "50%    ...      0.006000      0.010000      0.009000      0.009000   \n",
       "75%    ...      0.010000      0.015000      0.013000      0.013000   \n",
       "max    ...      0.057000      0.124000      0.040000      0.064000   \n",
       "\n",
       "             UHD50B        UHD50C        UHD51A        UHD51B        UHD51C  \\\n",
       "count  10080.000000  10080.000000  10080.000000  10080.000000  10080.000000   \n",
       "mean       0.007603      0.008211      0.007392      0.011283      0.009634   \n",
       "std        0.005930      0.004949      0.004872      0.008063      0.006096   \n",
       "min        0.000000      0.000000      0.000000      0.000000      0.000000   \n",
       "25%        0.004000      0.005000      0.004000      0.006000      0.005000   \n",
       "50%        0.007000      0.007000      0.006000      0.010000      0.008000   \n",
       "75%        0.010000      0.011000      0.010000      0.015000      0.013000   \n",
       "max        0.100000      0.038000      0.047000      0.124000      0.049000   \n",
       "\n",
       "       Unnamed: 154  \n",
       "count  10080.000000  \n",
       "mean       0.010590  \n",
       "std        0.006509  \n",
       "min        0.000000  \n",
       "25%        0.006000  \n",
       "50%        0.010000  \n",
       "75%        0.014000  \n",
       "max        0.056000  \n",
       "\n",
       "[8 rows x 153 columns]"
      ]
     },
     "execution_count": 9,
     "metadata": {},
     "output_type": "execute_result"
    }
   ],
   "source": [
    "voltHarm.describe()"
   ]
  },
  {
   "cell_type": "markdown",
   "metadata": {},
   "source": [
    "Pelo visto os valores de datasheet estão em conforme. Então podemos salvar esse dataset agora com todos os dias concatenados."
   ]
  },
  {
   "cell_type": "code",
   "execution_count": 11,
   "metadata": {},
   "outputs": [],
   "source": [
    "# Salvando o dataframe para analise futura\n",
    "voltHarm.to_csv(r'D:\\repositorios git\\HVEX\\dados\\VoltageHarmonics_3421198001.csv',\n",
    "                 encoding='UTF-8', sep=';', index=False)"
   ]
  }
 ],
 "metadata": {
  "kernelspec": {
   "display_name": "Python 3",
   "language": "python",
   "name": "python3"
  },
  "language_info": {
   "codemirror_mode": {
    "name": "ipython",
    "version": 3
   },
   "file_extension": ".py",
   "mimetype": "text/x-python",
   "name": "python",
   "nbconvert_exporter": "python",
   "pygments_lexer": "ipython3",
   "version": "3.11.1"
  },
  "orig_nbformat": 4
 },
 "nbformat": 4,
 "nbformat_minor": 2
}
