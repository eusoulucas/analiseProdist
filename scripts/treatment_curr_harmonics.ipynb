{
 "cells": [
  {
   "cell_type": "code",
   "execution_count": 3,
   "metadata": {},
   "outputs": [
    {
     "name": "stdout",
     "output_type": "stream",
     "text": [
      "(1440, 155)\n",
      "(1440, 155)\n",
      "(1440, 155)\n",
      "(1440, 155)\n",
      "(1440, 155)\n",
      "(1440, 155)\n",
      "(1440, 155)\n"
     ]
    }
   ],
   "source": [
    "import pandas as pd\n",
    "import os\n",
    "\n",
    "dfs = [] # lista vazia para armazenar os dataframes\n",
    "\n",
    "# percorre todas as pastas dentro do caminho especificado\n",
    "for folder in os.listdir(r'D:\\repositorios git\\HVEX\\dados\\raw_data'):\n",
    "    # percorre todos os arquivos dentro da pasta atual\n",
    "    for file in os.listdir(r'D:\\repositorios git\\HVEX\\dados\\raw_data\\{}'.format(folder)):\n",
    "\n",
    "        # verifica se o nome do arquivo contém 'Current'\n",
    "        if 'Current' in file:\n",
    "            # lê o arquivo csv especificado e armazena o dataframe na lista dfs\n",
    "            dfs.append(pd.read_csv(r'D:\\repositorios git\\HVEX\\dados\\raw_data\\{}\\{}'.format(folder, file),\n",
    "                                  skiprows=[0,1], sep=';', encoding='UTF-8'))\n",
    "            # verifica se o dataframe contém apenas uma coluna\n",
    "            if dfs[-1].shape[1] == 1:\n",
    "                # se o dataframe contiver apenas uma coluna, lê novamente o arquivo csv, alterando o separador para vírgula\n",
    "                dfs[-1] = pd.read_csv(r'D:\\repositorios git\\HVEX\\dados\\raw_data\\{}\\{}'.format(folder, file),\n",
    "                                  skiprows=[0,1], sep=',', encoding='UTF-8')"
   ]
  },
  {
   "cell_type": "code",
   "execution_count": 4,
   "metadata": {},
   "outputs": [],
   "source": [
    "datasheet = pd.concat(dfs) #concatenando todos os dataframes, vai ser melhor para a visualização"
   ]
  },
  {
   "cell_type": "code",
   "execution_count": 5,
   "metadata": {},
   "outputs": [
    {
     "data": {
      "text/plain": [
       "array(['2022-03-28', '2022-03-29', '2022-03-30', '2022-03-31',\n",
       "       '2022-04-01', '2022-04-02', '2022-04-03'], dtype=object)"
      ]
     },
     "execution_count": 5,
     "metadata": {},
     "output_type": "execute_result"
    }
   ],
   "source": [
    "datasheet['Date'].unique()"
   ]
  },
  {
   "cell_type": "code",
   "execution_count": 6,
   "metadata": {},
   "outputs": [
    {
     "data": {
      "text/plain": [
       "array(['00:00:00', '00:01:00', '00:02:00', ..., '23:57:00', '23:58:00',\n",
       "       '23:59:00'], dtype=object)"
      ]
     },
     "execution_count": 6,
     "metadata": {},
     "output_type": "execute_result"
    }
   ],
   "source": [
    "datasheet['Time'].unique()"
   ]
  },
  {
   "cell_type": "code",
   "execution_count": 14,
   "metadata": {},
   "outputs": [],
   "source": [
    "datasheet['Datetime'] = datasheet['Date'] +' '+ datasheet['Time']\n",
    "datasheet['Datetime'] = pd.to_datetime(datasheet['Datetime'], format='%Y-%m-%d %H:%M:%S' )"
   ]
  },
  {
   "cell_type": "code",
   "execution_count": 16,
   "metadata": {},
   "outputs": [
    {
     "data": {
      "text/plain": [
       "(10080, 156)"
      ]
     },
     "execution_count": 16,
     "metadata": {},
     "output_type": "execute_result"
    }
   ],
   "source": [
    "datasheet.shape"
   ]
  },
  {
   "cell_type": "code",
   "execution_count": 17,
   "metadata": {},
   "outputs": [
    {
     "data": {
      "text/plain": [
       "[]"
      ]
     },
     "execution_count": 17,
     "metadata": {},
     "output_type": "execute_result"
    }
   ],
   "source": [
    "# Contar o número de valores nulos em cada coluna\n",
    "nulos_por_coluna = datasheet.isnull().sum()\n",
    "[print(values) for values in nulos_por_coluna if values > 0]"
   ]
  },
  {
   "cell_type": "code",
   "execution_count": 18,
   "metadata": {},
   "outputs": [
    {
     "data": {
      "text/html": [
       "<div>\n",
       "<style scoped>\n",
       "    .dataframe tbody tr th:only-of-type {\n",
       "        vertical-align: middle;\n",
       "    }\n",
       "\n",
       "    .dataframe tbody tr th {\n",
       "        vertical-align: top;\n",
       "    }\n",
       "\n",
       "    .dataframe thead th {\n",
       "        text-align: right;\n",
       "    }\n",
       "</style>\n",
       "<table border=\"1\" class=\"dataframe\">\n",
       "  <thead>\n",
       "    <tr style=\"text-align: right;\">\n",
       "      <th></th>\n",
       "      <th>ITHDA</th>\n",
       "      <th>ITHDB</th>\n",
       "      <th>ITHDC</th>\n",
       "      <th>IHD2A</th>\n",
       "      <th>IHD2B</th>\n",
       "      <th>IHD2C</th>\n",
       "      <th>IHD3A</th>\n",
       "      <th>IHD3B</th>\n",
       "      <th>IHD3C</th>\n",
       "      <th>IHD4A</th>\n",
       "      <th>...</th>\n",
       "      <th>IHD49A</th>\n",
       "      <th>IHD49B</th>\n",
       "      <th>IHD49C</th>\n",
       "      <th>IHD50A</th>\n",
       "      <th>IHD50B</th>\n",
       "      <th>IHD50C</th>\n",
       "      <th>IHD51A</th>\n",
       "      <th>IHD51B</th>\n",
       "      <th>IHD51C</th>\n",
       "      <th>Unnamed: 154</th>\n",
       "    </tr>\n",
       "  </thead>\n",
       "  <tbody>\n",
       "    <tr>\n",
       "      <th>count</th>\n",
       "      <td>10080.000000</td>\n",
       "      <td>10080.000000</td>\n",
       "      <td>10080.000000</td>\n",
       "      <td>10080.000000</td>\n",
       "      <td>10080.000000</td>\n",
       "      <td>10080.000000</td>\n",
       "      <td>10080.000000</td>\n",
       "      <td>10080.000000</td>\n",
       "      <td>10080.000000</td>\n",
       "      <td>10080.000000</td>\n",
       "      <td>...</td>\n",
       "      <td>10080.000000</td>\n",
       "      <td>10080.000000</td>\n",
       "      <td>10080.000000</td>\n",
       "      <td>10080.000000</td>\n",
       "      <td>10080.000000</td>\n",
       "      <td>10080.000000</td>\n",
       "      <td>10080.000000</td>\n",
       "      <td>10080.000000</td>\n",
       "      <td>10080.000000</td>\n",
       "      <td>10080.000000</td>\n",
       "    </tr>\n",
       "    <tr>\n",
       "      <th>mean</th>\n",
       "      <td>3.876034</td>\n",
       "      <td>4.536392</td>\n",
       "      <td>4.099187</td>\n",
       "      <td>0.442157</td>\n",
       "      <td>0.603300</td>\n",
       "      <td>0.586392</td>\n",
       "      <td>1.795274</td>\n",
       "      <td>3.136336</td>\n",
       "      <td>2.336020</td>\n",
       "      <td>0.139523</td>\n",
       "      <td>...</td>\n",
       "      <td>0.009035</td>\n",
       "      <td>0.010706</td>\n",
       "      <td>0.008897</td>\n",
       "      <td>0.011597</td>\n",
       "      <td>0.008394</td>\n",
       "      <td>0.006680</td>\n",
       "      <td>0.006822</td>\n",
       "      <td>0.009678</td>\n",
       "      <td>0.009536</td>\n",
       "      <td>0.010749</td>\n",
       "    </tr>\n",
       "    <tr>\n",
       "      <th>std</th>\n",
       "      <td>0.808979</td>\n",
       "      <td>1.140697</td>\n",
       "      <td>0.912955</td>\n",
       "      <td>0.285438</td>\n",
       "      <td>0.478549</td>\n",
       "      <td>0.496707</td>\n",
       "      <td>0.757447</td>\n",
       "      <td>1.026060</td>\n",
       "      <td>0.839219</td>\n",
       "      <td>0.073029</td>\n",
       "      <td>...</td>\n",
       "      <td>0.006345</td>\n",
       "      <td>0.009042</td>\n",
       "      <td>0.005551</td>\n",
       "      <td>0.008308</td>\n",
       "      <td>0.006029</td>\n",
       "      <td>0.004073</td>\n",
       "      <td>0.004711</td>\n",
       "      <td>0.006920</td>\n",
       "      <td>0.005652</td>\n",
       "      <td>0.006961</td>\n",
       "    </tr>\n",
       "    <tr>\n",
       "      <th>min</th>\n",
       "      <td>0.000000</td>\n",
       "      <td>0.000000</td>\n",
       "      <td>0.000000</td>\n",
       "      <td>0.000000</td>\n",
       "      <td>0.000000</td>\n",
       "      <td>0.000000</td>\n",
       "      <td>0.000000</td>\n",
       "      <td>0.000000</td>\n",
       "      <td>0.000000</td>\n",
       "      <td>0.000000</td>\n",
       "      <td>...</td>\n",
       "      <td>0.000000</td>\n",
       "      <td>0.000000</td>\n",
       "      <td>0.000000</td>\n",
       "      <td>0.000000</td>\n",
       "      <td>0.000000</td>\n",
       "      <td>0.000000</td>\n",
       "      <td>0.000000</td>\n",
       "      <td>0.000000</td>\n",
       "      <td>0.000000</td>\n",
       "      <td>0.000000</td>\n",
       "    </tr>\n",
       "    <tr>\n",
       "      <th>25%</th>\n",
       "      <td>3.521000</td>\n",
       "      <td>3.879750</td>\n",
       "      <td>3.650000</td>\n",
       "      <td>0.243000</td>\n",
       "      <td>0.290000</td>\n",
       "      <td>0.271000</td>\n",
       "      <td>1.315000</td>\n",
       "      <td>2.516750</td>\n",
       "      <td>1.830750</td>\n",
       "      <td>0.089000</td>\n",
       "      <td>...</td>\n",
       "      <td>0.005000</td>\n",
       "      <td>0.005000</td>\n",
       "      <td>0.005000</td>\n",
       "      <td>0.006000</td>\n",
       "      <td>0.004000</td>\n",
       "      <td>0.004000</td>\n",
       "      <td>0.004000</td>\n",
       "      <td>0.005000</td>\n",
       "      <td>0.005000</td>\n",
       "      <td>0.006000</td>\n",
       "    </tr>\n",
       "    <tr>\n",
       "      <th>50%</th>\n",
       "      <td>3.920000</td>\n",
       "      <td>4.406000</td>\n",
       "      <td>4.192000</td>\n",
       "      <td>0.391000</td>\n",
       "      <td>0.472000</td>\n",
       "      <td>0.446000</td>\n",
       "      <td>1.740000</td>\n",
       "      <td>3.002000</td>\n",
       "      <td>2.343000</td>\n",
       "      <td>0.133000</td>\n",
       "      <td>...</td>\n",
       "      <td>0.008000</td>\n",
       "      <td>0.009000</td>\n",
       "      <td>0.008000</td>\n",
       "      <td>0.010000</td>\n",
       "      <td>0.007000</td>\n",
       "      <td>0.006000</td>\n",
       "      <td>0.006000</td>\n",
       "      <td>0.008000</td>\n",
       "      <td>0.009000</td>\n",
       "      <td>0.010000</td>\n",
       "    </tr>\n",
       "    <tr>\n",
       "      <th>75%</th>\n",
       "      <td>4.333000</td>\n",
       "      <td>5.110000</td>\n",
       "      <td>4.646000</td>\n",
       "      <td>0.578000</td>\n",
       "      <td>0.749000</td>\n",
       "      <td>0.717000</td>\n",
       "      <td>2.205250</td>\n",
       "      <td>3.649000</td>\n",
       "      <td>2.852000</td>\n",
       "      <td>0.180250</td>\n",
       "      <td>...</td>\n",
       "      <td>0.012000</td>\n",
       "      <td>0.013000</td>\n",
       "      <td>0.012000</td>\n",
       "      <td>0.015000</td>\n",
       "      <td>0.011000</td>\n",
       "      <td>0.009000</td>\n",
       "      <td>0.009000</td>\n",
       "      <td>0.012000</td>\n",
       "      <td>0.013000</td>\n",
       "      <td>0.014000</td>\n",
       "    </tr>\n",
       "    <tr>\n",
       "      <th>max</th>\n",
       "      <td>10.120000</td>\n",
       "      <td>14.839000</td>\n",
       "      <td>26.963000</td>\n",
       "      <td>2.424000</td>\n",
       "      <td>3.950000</td>\n",
       "      <td>3.983000</td>\n",
       "      <td>9.866000</td>\n",
       "      <td>13.065000</td>\n",
       "      <td>21.763000</td>\n",
       "      <td>0.614000</td>\n",
       "      <td>...</td>\n",
       "      <td>0.214000</td>\n",
       "      <td>0.096000</td>\n",
       "      <td>0.047000</td>\n",
       "      <td>0.234000</td>\n",
       "      <td>0.072000</td>\n",
       "      <td>0.037000</td>\n",
       "      <td>0.076000</td>\n",
       "      <td>0.083000</td>\n",
       "      <td>0.065000</td>\n",
       "      <td>0.151000</td>\n",
       "    </tr>\n",
       "  </tbody>\n",
       "</table>\n",
       "<p>8 rows × 153 columns</p>\n",
       "</div>"
      ],
      "text/plain": [
       "              ITHDA         ITHDB         ITHDC         IHD2A         IHD2B  \\\n",
       "count  10080.000000  10080.000000  10080.000000  10080.000000  10080.000000   \n",
       "mean       3.876034      4.536392      4.099187      0.442157      0.603300   \n",
       "std        0.808979      1.140697      0.912955      0.285438      0.478549   \n",
       "min        0.000000      0.000000      0.000000      0.000000      0.000000   \n",
       "25%        3.521000      3.879750      3.650000      0.243000      0.290000   \n",
       "50%        3.920000      4.406000      4.192000      0.391000      0.472000   \n",
       "75%        4.333000      5.110000      4.646000      0.578000      0.749000   \n",
       "max       10.120000     14.839000     26.963000      2.424000      3.950000   \n",
       "\n",
       "              IHD2C         IHD3A         IHD3B         IHD3C         IHD4A  \\\n",
       "count  10080.000000  10080.000000  10080.000000  10080.000000  10080.000000   \n",
       "mean       0.586392      1.795274      3.136336      2.336020      0.139523   \n",
       "std        0.496707      0.757447      1.026060      0.839219      0.073029   \n",
       "min        0.000000      0.000000      0.000000      0.000000      0.000000   \n",
       "25%        0.271000      1.315000      2.516750      1.830750      0.089000   \n",
       "50%        0.446000      1.740000      3.002000      2.343000      0.133000   \n",
       "75%        0.717000      2.205250      3.649000      2.852000      0.180250   \n",
       "max        3.983000      9.866000     13.065000     21.763000      0.614000   \n",
       "\n",
       "       ...        IHD49A        IHD49B        IHD49C        IHD50A  \\\n",
       "count  ...  10080.000000  10080.000000  10080.000000  10080.000000   \n",
       "mean   ...      0.009035      0.010706      0.008897      0.011597   \n",
       "std    ...      0.006345      0.009042      0.005551      0.008308   \n",
       "min    ...      0.000000      0.000000      0.000000      0.000000   \n",
       "25%    ...      0.005000      0.005000      0.005000      0.006000   \n",
       "50%    ...      0.008000      0.009000      0.008000      0.010000   \n",
       "75%    ...      0.012000      0.013000      0.012000      0.015000   \n",
       "max    ...      0.214000      0.096000      0.047000      0.234000   \n",
       "\n",
       "             IHD50B        IHD50C        IHD51A        IHD51B        IHD51C  \\\n",
       "count  10080.000000  10080.000000  10080.000000  10080.000000  10080.000000   \n",
       "mean       0.008394      0.006680      0.006822      0.009678      0.009536   \n",
       "std        0.006029      0.004073      0.004711      0.006920      0.005652   \n",
       "min        0.000000      0.000000      0.000000      0.000000      0.000000   \n",
       "25%        0.004000      0.004000      0.004000      0.005000      0.005000   \n",
       "50%        0.007000      0.006000      0.006000      0.008000      0.009000   \n",
       "75%        0.011000      0.009000      0.009000      0.012000      0.013000   \n",
       "max        0.072000      0.037000      0.076000      0.083000      0.065000   \n",
       "\n",
       "       Unnamed: 154  \n",
       "count  10080.000000  \n",
       "mean       0.010749  \n",
       "std        0.006961  \n",
       "min        0.000000  \n",
       "25%        0.006000  \n",
       "50%        0.010000  \n",
       "75%        0.014000  \n",
       "max        0.151000  \n",
       "\n",
       "[8 rows x 153 columns]"
      ]
     },
     "execution_count": 18,
     "metadata": {},
     "output_type": "execute_result"
    }
   ],
   "source": [
    "datasheet.describe()"
   ]
  },
  {
   "cell_type": "markdown",
   "metadata": {},
   "source": [
    "Pelo visto os valores de datasheet estão em conforme. Então podemos salvar esse dataset agora com todos os dias concatenados."
   ]
  },
  {
   "cell_type": "code",
   "execution_count": 19,
   "metadata": {},
   "outputs": [],
   "source": [
    "datasheet.to_csv(r'D:\\repositorios git\\HVEX\\dados\\CurrentHarmonics_3421198001.csv',\n",
    "                 encoding='UTF-8', sep=';', index=False)"
   ]
  }
 ],
 "metadata": {
  "kernelspec": {
   "display_name": "Python 3",
   "language": "python",
   "name": "python3"
  },
  "language_info": {
   "codemirror_mode": {
    "name": "ipython",
    "version": 3
   },
   "file_extension": ".py",
   "mimetype": "text/x-python",
   "name": "python",
   "nbconvert_exporter": "python",
   "pygments_lexer": "ipython3",
   "version": "3.11.1"
  },
  "orig_nbformat": 4
 },
 "nbformat": 4,
 "nbformat_minor": 2
}
